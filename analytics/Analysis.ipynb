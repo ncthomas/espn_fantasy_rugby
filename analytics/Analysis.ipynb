{
 "cells": [
  {
   "cell_type": "code",
   "execution_count": 1,
   "metadata": {},
   "outputs": [],
   "source": [
    "import pandas\n",
    "import matplotlib\n",
    "import matplotlib.pyplot\n",
    "import seaborn\n",
    "import scipy\n",
    "\n",
    "TEAM_COLORS = {\n",
    "    'WAL':'red',\n",
    "    'ENG':'white',\n",
    "    'IRE':'green',\n",
    "    'FRA':'mediumblue',\n",
    "    'SCO':'navy',\n",
    "    'ITA':'dodgerblue'\n",
    "}\n",
    "\n",
    "TEAM_FONT_COLORS = {\n",
    "    'WAL':'white',\n",
    "    'ENG':'black',\n",
    "    'IRE':'white',\n",
    "    'FRA':'white',\n",
    "    'SCO':'white',\n",
    "    'ITA':'white'\n",
    "}\n",
    "\n",
    "POSITION_ORDER = ['OB', 'C', 'FH', 'SH', 'BR', 'SR', 'FR']"
   ]
  },
  {
   "cell_type": "code",
   "execution_count": 2,
   "metadata": {},
   "outputs": [],
   "source": [
    "data = pandas.concat(\n",
    "    pandas.read_excel(\n",
    "        '../data/espn_rugby_data.xlsx',\n",
    "        sheet_name=None\n",
    "    ),\n",
    "    ignore_index=True\n",
    ")"
   ]
  },
  {
   "cell_type": "code",
   "execution_count": 3,
   "metadata": {},
   "outputs": [
    {
     "data": {
      "text/html": [
       "<div>\n",
       "<style scoped>\n",
       "    .dataframe tbody tr th:only-of-type {\n",
       "        vertical-align: middle;\n",
       "    }\n",
       "\n",
       "    .dataframe tbody tr th {\n",
       "        vertical-align: top;\n",
       "    }\n",
       "\n",
       "    .dataframe thead th {\n",
       "        text-align: right;\n",
       "    }\n",
       "</style>\n",
       "<table border=\"1\" class=\"dataframe\">\n",
       "  <thead>\n",
       "    <tr style=\"text-align: right;\">\n",
       "      <th></th>\n",
       "      <th>NAME</th>\n",
       "      <th>TEAM</th>\n",
       "      <th>OPP</th>\n",
       "      <th>POS</th>\n",
       "      <th>RATING</th>\n",
       "      <th>2018</th>\n",
       "      <th>SM</th>\n",
       "      <th>SUB</th>\n",
       "      <th>T</th>\n",
       "      <th>A</th>\n",
       "      <th>...</th>\n",
       "      <th>YC</th>\n",
       "      <th>RC</th>\n",
       "      <th>MOM</th>\n",
       "      <th>5T</th>\n",
       "      <th>50M</th>\n",
       "      <th>LO</th>\n",
       "      <th>TSB</th>\n",
       "      <th>PTS</th>\n",
       "      <th>MDP</th>\n",
       "      <th>ROUND</th>\n",
       "    </tr>\n",
       "  </thead>\n",
       "  <tbody>\n",
       "    <tr>\n",
       "      <th>0</th>\n",
       "      <td>B Kinghorn</td>\n",
       "      <td>SCO</td>\n",
       "      <td>ITA</td>\n",
       "      <td>OB</td>\n",
       "      <td>3</td>\n",
       "      <td>9</td>\n",
       "      <td>1</td>\n",
       "      <td>0</td>\n",
       "      <td>3</td>\n",
       "      <td>1</td>\n",
       "      <td>...</td>\n",
       "      <td>0</td>\n",
       "      <td>0</td>\n",
       "      <td>1</td>\n",
       "      <td>2</td>\n",
       "      <td>1</td>\n",
       "      <td>0</td>\n",
       "      <td>0.16</td>\n",
       "      <td>35</td>\n",
       "      <td>28</td>\n",
       "      <td>1</td>\n",
       "    </tr>\n",
       "    <tr>\n",
       "      <th>1</th>\n",
       "      <td>G North</td>\n",
       "      <td>WAL</td>\n",
       "      <td>FRA</td>\n",
       "      <td>OB</td>\n",
       "      <td>4</td>\n",
       "      <td>18</td>\n",
       "      <td>1</td>\n",
       "      <td>0</td>\n",
       "      <td>2</td>\n",
       "      <td>0</td>\n",
       "      <td>...</td>\n",
       "      <td>0</td>\n",
       "      <td>0</td>\n",
       "      <td>1</td>\n",
       "      <td>0</td>\n",
       "      <td>1</td>\n",
       "      <td>0</td>\n",
       "      <td>0.24</td>\n",
       "      <td>25</td>\n",
       "      <td>18</td>\n",
       "      <td>1</td>\n",
       "    </tr>\n",
       "    <tr>\n",
       "      <th>2</th>\n",
       "      <td>H Slade</td>\n",
       "      <td>ENG</td>\n",
       "      <td>IRE</td>\n",
       "      <td>C</td>\n",
       "      <td>3</td>\n",
       "      <td>0</td>\n",
       "      <td>1</td>\n",
       "      <td>0</td>\n",
       "      <td>2</td>\n",
       "      <td>0</td>\n",
       "      <td>...</td>\n",
       "      <td>0</td>\n",
       "      <td>0</td>\n",
       "      <td>0</td>\n",
       "      <td>2</td>\n",
       "      <td>0</td>\n",
       "      <td>0</td>\n",
       "      <td>0.10</td>\n",
       "      <td>37</td>\n",
       "      <td>14</td>\n",
       "      <td>1</td>\n",
       "    </tr>\n",
       "    <tr>\n",
       "      <th>3</th>\n",
       "      <td>M Vunipola</td>\n",
       "      <td>ENG</td>\n",
       "      <td>IRE</td>\n",
       "      <td>FR</td>\n",
       "      <td>5</td>\n",
       "      <td>21</td>\n",
       "      <td>1</td>\n",
       "      <td>0</td>\n",
       "      <td>0</td>\n",
       "      <td>0</td>\n",
       "      <td>...</td>\n",
       "      <td>0</td>\n",
       "      <td>0</td>\n",
       "      <td>1</td>\n",
       "      <td>5</td>\n",
       "      <td>0</td>\n",
       "      <td>0</td>\n",
       "      <td>0.23</td>\n",
       "      <td>16</td>\n",
       "      <td>12</td>\n",
       "      <td>1</td>\n",
       "    </tr>\n",
       "    <tr>\n",
       "      <th>4</th>\n",
       "      <td>J May</td>\n",
       "      <td>ENG</td>\n",
       "      <td>IRE</td>\n",
       "      <td>OB</td>\n",
       "      <td>4</td>\n",
       "      <td>42</td>\n",
       "      <td>1</td>\n",
       "      <td>0</td>\n",
       "      <td>1</td>\n",
       "      <td>1</td>\n",
       "      <td>...</td>\n",
       "      <td>0</td>\n",
       "      <td>0</td>\n",
       "      <td>0</td>\n",
       "      <td>1</td>\n",
       "      <td>0</td>\n",
       "      <td>0</td>\n",
       "      <td>0.61</td>\n",
       "      <td>55</td>\n",
       "      <td>11</td>\n",
       "      <td>1</td>\n",
       "    </tr>\n",
       "  </tbody>\n",
       "</table>\n",
       "<p>5 rows × 23 columns</p>\n",
       "</div>"
      ],
      "text/plain": [
       "         NAME TEAM  OPP POS  RATING  2018  SM  SUB  T  A  ...  YC  RC  MOM  \\\n",
       "0  B Kinghorn  SCO  ITA  OB       3     9   1    0  3  1  ...   0   0    1   \n",
       "1     G North  WAL  FRA  OB       4    18   1    0  2  0  ...   0   0    1   \n",
       "2     H Slade  ENG  IRE   C       3     0   1    0  2  0  ...   0   0    0   \n",
       "3  M Vunipola  ENG  IRE  FR       5    21   1    0  0  0  ...   0   0    1   \n",
       "4       J May  ENG  IRE  OB       4    42   1    0  1  1  ...   0   0    0   \n",
       "\n",
       "   5T  50M  LO   TSB  PTS  MDP  ROUND  \n",
       "0   2    1   0  0.16   35   28      1  \n",
       "1   0    1   0  0.24   25   18      1  \n",
       "2   2    0   0  0.10   37   14      1  \n",
       "3   5    0   0  0.23   16   12      1  \n",
       "4   1    0   0  0.61   55   11      1  \n",
       "\n",
       "[5 rows x 23 columns]"
      ]
     },
     "execution_count": 3,
     "metadata": {},
     "output_type": "execute_result"
    }
   ],
   "source": [
    "data.head()"
   ]
  },
  {
   "cell_type": "code",
   "execution_count": 4,
   "metadata": {},
   "outputs": [
    {
     "data": {
      "text/html": [
       "<div>\n",
       "<style scoped>\n",
       "    .dataframe tbody tr th:only-of-type {\n",
       "        vertical-align: middle;\n",
       "    }\n",
       "\n",
       "    .dataframe tbody tr th {\n",
       "        vertical-align: top;\n",
       "    }\n",
       "\n",
       "    .dataframe thead th {\n",
       "        text-align: right;\n",
       "    }\n",
       "</style>\n",
       "<table border=\"1\" class=\"dataframe\">\n",
       "  <thead>\n",
       "    <tr style=\"text-align: right;\">\n",
       "      <th></th>\n",
       "      <th>NAME</th>\n",
       "      <th>TEAM</th>\n",
       "      <th>OPP</th>\n",
       "      <th>POS</th>\n",
       "      <th>RATING</th>\n",
       "      <th>2018</th>\n",
       "      <th>SM</th>\n",
       "      <th>SUB</th>\n",
       "      <th>T</th>\n",
       "      <th>A</th>\n",
       "      <th>...</th>\n",
       "      <th>YC</th>\n",
       "      <th>RC</th>\n",
       "      <th>MOM</th>\n",
       "      <th>5T</th>\n",
       "      <th>50M</th>\n",
       "      <th>LO</th>\n",
       "      <th>TSB</th>\n",
       "      <th>PTS</th>\n",
       "      <th>MDP</th>\n",
       "      <th>ROUND</th>\n",
       "    </tr>\n",
       "  </thead>\n",
       "  <tbody>\n",
       "    <tr>\n",
       "      <th>0</th>\n",
       "      <td>B Kinghorn</td>\n",
       "      <td>SCO</td>\n",
       "      <td>ITA</td>\n",
       "      <td>OB</td>\n",
       "      <td>3</td>\n",
       "      <td>9</td>\n",
       "      <td>1</td>\n",
       "      <td>0</td>\n",
       "      <td>3</td>\n",
       "      <td>1</td>\n",
       "      <td>...</td>\n",
       "      <td>0</td>\n",
       "      <td>0</td>\n",
       "      <td>1</td>\n",
       "      <td>2</td>\n",
       "      <td>1</td>\n",
       "      <td>0</td>\n",
       "      <td>0.16</td>\n",
       "      <td>35</td>\n",
       "      <td>28</td>\n",
       "      <td>1</td>\n",
       "    </tr>\n",
       "    <tr>\n",
       "      <th>1</th>\n",
       "      <td>G North</td>\n",
       "      <td>WAL</td>\n",
       "      <td>FRA</td>\n",
       "      <td>OB</td>\n",
       "      <td>4</td>\n",
       "      <td>18</td>\n",
       "      <td>1</td>\n",
       "      <td>0</td>\n",
       "      <td>2</td>\n",
       "      <td>0</td>\n",
       "      <td>...</td>\n",
       "      <td>0</td>\n",
       "      <td>0</td>\n",
       "      <td>1</td>\n",
       "      <td>0</td>\n",
       "      <td>1</td>\n",
       "      <td>0</td>\n",
       "      <td>0.24</td>\n",
       "      <td>25</td>\n",
       "      <td>18</td>\n",
       "      <td>1</td>\n",
       "    </tr>\n",
       "    <tr>\n",
       "      <th>2</th>\n",
       "      <td>H Slade</td>\n",
       "      <td>ENG</td>\n",
       "      <td>IRE</td>\n",
       "      <td>C</td>\n",
       "      <td>3</td>\n",
       "      <td>0</td>\n",
       "      <td>1</td>\n",
       "      <td>0</td>\n",
       "      <td>2</td>\n",
       "      <td>0</td>\n",
       "      <td>...</td>\n",
       "      <td>0</td>\n",
       "      <td>0</td>\n",
       "      <td>0</td>\n",
       "      <td>2</td>\n",
       "      <td>0</td>\n",
       "      <td>0</td>\n",
       "      <td>0.10</td>\n",
       "      <td>37</td>\n",
       "      <td>14</td>\n",
       "      <td>1</td>\n",
       "    </tr>\n",
       "    <tr>\n",
       "      <th>3</th>\n",
       "      <td>M Vunipola</td>\n",
       "      <td>ENG</td>\n",
       "      <td>IRE</td>\n",
       "      <td>FR</td>\n",
       "      <td>5</td>\n",
       "      <td>21</td>\n",
       "      <td>1</td>\n",
       "      <td>0</td>\n",
       "      <td>0</td>\n",
       "      <td>0</td>\n",
       "      <td>...</td>\n",
       "      <td>0</td>\n",
       "      <td>0</td>\n",
       "      <td>1</td>\n",
       "      <td>5</td>\n",
       "      <td>0</td>\n",
       "      <td>0</td>\n",
       "      <td>0.23</td>\n",
       "      <td>16</td>\n",
       "      <td>12</td>\n",
       "      <td>1</td>\n",
       "    </tr>\n",
       "    <tr>\n",
       "      <th>4</th>\n",
       "      <td>J May</td>\n",
       "      <td>ENG</td>\n",
       "      <td>IRE</td>\n",
       "      <td>OB</td>\n",
       "      <td>4</td>\n",
       "      <td>42</td>\n",
       "      <td>1</td>\n",
       "      <td>0</td>\n",
       "      <td>1</td>\n",
       "      <td>1</td>\n",
       "      <td>...</td>\n",
       "      <td>0</td>\n",
       "      <td>0</td>\n",
       "      <td>0</td>\n",
       "      <td>1</td>\n",
       "      <td>0</td>\n",
       "      <td>0</td>\n",
       "      <td>0.61</td>\n",
       "      <td>55</td>\n",
       "      <td>11</td>\n",
       "      <td>1</td>\n",
       "    </tr>\n",
       "  </tbody>\n",
       "</table>\n",
       "<p>5 rows × 23 columns</p>\n",
       "</div>"
      ],
      "text/plain": [
       "         NAME TEAM  OPP POS  RATING  2018  SM  SUB  T  A  ...  YC  RC  MOM  \\\n",
       "0  B Kinghorn  SCO  ITA  OB       3     9   1    0  3  1  ...   0   0    1   \n",
       "1     G North  WAL  FRA  OB       4    18   1    0  2  0  ...   0   0    1   \n",
       "2     H Slade  ENG  IRE   C       3     0   1    0  2  0  ...   0   0    0   \n",
       "3  M Vunipola  ENG  IRE  FR       5    21   1    0  0  0  ...   0   0    1   \n",
       "4       J May  ENG  IRE  OB       4    42   1    0  1  1  ...   0   0    0   \n",
       "\n",
       "   5T  50M  LO   TSB  PTS  MDP  ROUND  \n",
       "0   2    1   0  0.16   35   28      1  \n",
       "1   0    1   0  0.24   25   18      1  \n",
       "2   2    0   0  0.10   37   14      1  \n",
       "3   5    0   0  0.23   16   12      1  \n",
       "4   1    0   0  0.61   55   11      1  \n",
       "\n",
       "[5 rows x 23 columns]"
      ]
     },
     "execution_count": 4,
     "metadata": {},
     "output_type": "execute_result"
    }
   ],
   "source": [
    "starter_data = data[data['SM']==1]\n",
    "starter_data.head()"
   ]
  },
  {
   "cell_type": "markdown",
   "metadata": {},
   "source": [
    "### Do players score more points against Italy?"
   ]
  },
  {
   "cell_type": "code",
   "execution_count": 5,
   "metadata": {},
   "outputs": [
    {
     "data": {
      "image/png": "[encoded data removed]",
      "text/plain": [
       "<Figure size 720x360 with 1 Axes>"
      ]
     },
     "metadata": {
      "needs_background": "light"
     },
     "output_type": "display_data"
    }
   ],
   "source": [
    "fig, ax = matplotlib.pyplot.subplots(figsize=(10,5))\n",
    "seaborn.barplot(\n",
    "    data=starter_data,\n",
    "    x='OPP',\n",
    "    y='MDP',\n",
    "    order=TEAM_COLORS.keys(),\n",
    "    palette=TEAM_COLORS.values(),\n",
    "    **{\n",
    "        'alpha': 0.75,\n",
    "        'edgecolor': 'grey'\n",
    "      }\n",
    ")\n",
    "seaborn.despine()\n",
    "ax.set_title('Players score fewer points aganst Wales and most points against Italy')\n",
    "matplotlib.pyplot.show()"
   ]
  },
  {
   "cell_type": "code",
   "execution_count": 6,
   "metadata": {},
   "outputs": [
    {
     "data": {
      "image/png": "[encoded data removed]",
      "text/plain": [
       "<Figure size 1080x360 with 1 Axes>"
      ]
     },
     "metadata": {
      "needs_background": "light"
     },
     "output_type": "display_data"
    }
   ],
   "source": [
    "fig, ax = matplotlib.pyplot.subplots(figsize=(15,5))\n",
    "seaborn.barplot(\n",
    "    data=starter_data,\n",
    "    x='POS',\n",
    "    y='MDP',\n",
    "    hue='OPP',\n",
    "    order=POSITION_ORDER,\n",
    "    hue_order=TEAM_COLORS.keys(),\n",
    "    palette=TEAM_COLORS.values(),\n",
    "    **{\n",
    "        'alpha': 0.75,\n",
    "        'edgecolor': 'grey'\n",
    "      }\n",
    ")\n",
    "ax.legend(bbox_to_anchor=(1.05, 0.75))\n",
    "seaborn.despine()\n",
    "ax.set_title('Outside Backs score more points aganst Italy and fly halves score more points against Italy and England')\n",
    "matplotlib.pyplot.show()"
   ]
  },
  {
   "cell_type": "markdown",
   "metadata": {},
   "source": [
    "### Which positions score most points?"
   ]
  },
  {
   "cell_type": "code",
   "execution_count": 7,
   "metadata": {},
   "outputs": [
    {
     "data": {
      "image/png": "[encoded data removed]",
      "text/plain": [
       "<Figure size 720x360 with 1 Axes>"
      ]
     },
     "metadata": {
      "needs_background": "light"
     },
     "output_type": "display_data"
    }
   ],
   "source": [
    "fig, ax = matplotlib.pyplot.subplots(figsize=(10,5))\n",
    "seaborn.barplot(\n",
    "    data=starter_data,\n",
    "    x='POS',\n",
    "    y='MDP',\n",
    "    order=POSITION_ORDER\n",
    ")\n",
    "seaborn.despine()\n",
    "ax.set_title('Fly halves and outside backs unsurprisingly score most points')\n",
    "matplotlib.pyplot.show()"
   ]
  },
  {
   "cell_type": "markdown",
   "metadata": {},
   "source": [
    "### Which team scores most points?"
   ]
  },
  {
   "cell_type": "code",
   "execution_count": 8,
   "metadata": {},
   "outputs": [
    {
     "data": {
      "image/png": "[encoded data removed]",
      "text/plain": [
       "<Figure size 720x360 with 1 Axes>"
      ]
     },
     "metadata": {
      "needs_background": "light"
     },
     "output_type": "display_data"
    }
   ],
   "source": [
    "fig, ax = matplotlib.pyplot.subplots(figsize=(10,5))\n",
    "seaborn.barplot(\n",
    "    data=starter_data,\n",
    "    x='TEAM',\n",
    "    y='MDP',\n",
    "    order=TEAM_COLORS.keys(),\n",
    "    palette=TEAM_COLORS.values(),\n",
    "    **{\n",
    "        'alpha': 0.75,\n",
    "        'edgecolor': 'grey'\n",
    "      }\n",
    ")\n",
    "seaborn.despine()\n",
    "ax.set_title('English players score more points than their rivals')\n",
    "matplotlib.pyplot.show()"
   ]
  },
  {
   "cell_type": "markdown",
   "metadata": {},
   "source": [
    "### Points scored by position and team"
   ]
  },
  {
   "cell_type": "code",
   "execution_count": 9,
   "metadata": {},
   "outputs": [
    {
     "data": {
      "image/png": "[encoded data removed]",
      "text/plain": [
       "<Figure size 1080x360 with 1 Axes>"
      ]
     },
     "metadata": {
      "needs_background": "light"
     },
     "output_type": "display_data"
    }
   ],
   "source": [
    "fig, ax = matplotlib.pyplot.subplots(figsize=(15,5))\n",
    "seaborn.barplot(\n",
    "    data=starter_data,\n",
    "    x='POS',\n",
    "    y='MDP',\n",
    "    hue='TEAM',\n",
    "    order=POSITION_ORDER,\n",
    "    hue_order=TEAM_COLORS.keys(),\n",
    "    palette=TEAM_COLORS.values(),\n",
    "    **{\n",
    "        'alpha': 0.75,\n",
    "        'edgecolor': 'grey'\n",
    "      }\n",
    ")\n",
    "ax.legend(bbox_to_anchor=(1.05, 0.75))\n",
    "seaborn.despine()\n",
    "ax.set_title('Scottish fly halves score more points than their rivals')\n",
    "matplotlib.pyplot.show()"
   ]
  },
  {
   "cell_type": "markdown",
   "metadata": {},
   "source": [
    "### Do last year's scores correlate with this year?"
   ]
  },
  {
   "cell_type": "code",
   "execution_count": 10,
   "metadata": {},
   "outputs": [],
   "source": [
    "lastyear = data[data[2018]>0][['NAME',2018]].drop_duplicates()\n",
    "thisyear = data.groupby('NAME')['MDP'].sum().reset_index()"
   ]
  },
  {
   "cell_type": "code",
   "execution_count": 11,
   "metadata": {},
   "outputs": [],
   "source": [
    "yoy = pandas.merge(lastyear, thisyear, how='inner', on='NAME')\n",
    "yoy.columns = ['NAME', '2018', '2019']"
   ]
  },
  {
   "cell_type": "code",
   "execution_count": 12,
   "metadata": {},
   "outputs": [
    {
     "data": {
      "image/png": "[encoded data removed]",
      "text/plain": [
       "<Figure size 504x504 with 1 Axes>"
      ]
     },
     "metadata": {
      "needs_background": "light"
     },
     "output_type": "display_data"
    }
   ],
   "source": [
    "fig, ax = matplotlib.pyplot.subplots(figsize=(7,7))\n",
    "seaborn.scatterplot(\n",
    "    data=yoy,\n",
    "    x='2018',\n",
    "    y='2019'\n",
    ")\n",
    "ax.set_title('2018 scores significantly correlate with 2019 scores ({:.2f})'.format(\n",
    "    scipy.stats.spearmanr(yoy['2018'], yoy['2019']).correlation\n",
    "))\n",
    "seaborn.despine()\n",
    "matplotlib.pyplot.show()"
   ]
  },
  {
   "cell_type": "markdown",
   "metadata": {},
   "source": [
    "### Does the concept of \"form\" exist?"
   ]
  },
  {
   "cell_type": "code",
   "execution_count": null,
   "metadata": {},
   "outputs": [],
   "source": []
  }
 ],
 "metadata": {
  "kernelspec": {
   "display_name": "fantasy-rugby",
   "language": "python",
   "name": "fantasy-rugby"
  },
  "language_info": {
   "codemirror_mode": {
    "name": "ipython",
    "version": 3
   },
   "file_extension": ".py",
   "mimetype": "text/x-python",
   "name": "python",
   "nbconvert_exporter": "python",
   "pygments_lexer": "ipython3",
   "version": "3.7.1"
  }
 },
 "nbformat": 4,
 "nbformat_minor": 2
}
