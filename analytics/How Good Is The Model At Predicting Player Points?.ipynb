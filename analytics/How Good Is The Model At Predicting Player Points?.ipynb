{
 "cells": [
  {
   "cell_type": "code",
   "execution_count": 15,
   "metadata": {},
   "outputs": [],
   "source": [
    "import pandas\n",
    "import matplotlib.pyplot\n",
    "import seaborn\n",
    "import pulp\n",
    "import numpy\n",
    "import sklearn.metrics\n",
    "\n",
    "import espn_fantasy_rugby.team_selector\n",
    "import espn_fantasy_rugby.points_predictor\n",
    "import espn_fantasy_rugby.io"
   ]
  },
  {
   "cell_type": "code",
   "execution_count": 28,
   "metadata": {},
   "outputs": [],
   "source": [
    "features = ['OPP', 'POS', 'SM']\n",
    "target = 'MDP'\n",
    "\n",
    "espn_data = espn_fantasy_rugby.io.read_espn_data('../data/espn_rugby_data.xlsx')"
   ]
  },
  {
   "cell_type": "code",
   "execution_count": 29,
   "metadata": {},
   "outputs": [],
   "source": [
    "first_round_players = [\n",
    "    'T Furlong',\n",
    "    'R Best',\n",
    "    'J George',\n",
    "    'P Willemse',\n",
    "    'M Itoje',\n",
    "    'A Steyn',\n",
    "    'J Tipuric',\n",
    "    'B Vunipola',\n",
    "    'C Murray',\n",
    "    'J Sexton',\n",
    "    'J Adams',\n",
    "    'J Davies',\n",
    "    'D Penaud',\n",
    "    'S Hogg',\n",
    "    'B Kinghorn'\n",
    "]"
   ]
  },
  {
   "cell_type": "code",
   "execution_count": 30,
   "metadata": {
    "scrolled": false
   },
   "outputs": [],
   "source": [
    "initial_team = espn_fantasy_rugby.team_selector.get_initial_team(first_round_players, espn_data)\n",
    "\n",
    "fig, ax = matplotlib.pyplot.subplots(figsize=(10,10))\n",
    "espn_fantasy_rugby.team_selector.show_team(initial_team, ax)\n",
    "ax.set_title('Initial Team Selection')\n",
    "matplotlib.pyplot.show()"
   ]
  },
  {
   "cell_type": "code",
   "execution_count": 33,
   "metadata": {},
   "outputs": [
    {
     "name": "stdout",
     "output_type": "stream",
     "text": [
      "Mean Absolute Error (Round 1) = 3.0\n",
      "Mean Absolute Error (Round 2) = 3.4\n",
      "Mean Absolute Error (Round 3) = 3.2666666666666666\n",
      "Mean Absolute Error (Round 4) = 3.1333333333333333\n",
      "Mean Absolute Error (Round 5) = 3.1333333333333333\n"
     ]
    }
   ],
   "source": [
    "for tournament_round in [1,2,3,4,5]:\n",
    "    team = team_each_round.loc[team_each_round['ROUND']==tournament_round]\n",
    "    print(\n",
    "        \"Mean Absolute Error (Round {}) = {}\".format(\n",
    "            tournament_round,\n",
    "            sklearn.metrics.mean_absolute_error(team['MDP'], team['PREDICTION'])    \n",
    "        )\n",
    "    )"
   ]
  },
  {
   "cell_type": "code",
   "execution_count": null,
   "metadata": {},
   "outputs": [],
   "source": []
  }
 ],
 "metadata": {
  "kernelspec": {
   "display_name": "fantasy-rugby",
   "language": "python",
   "name": "fantasy-rugby"
  },
  "language_info": {
   "codemirror_mode": {
    "name": "ipython",
    "version": 3
   },
   "file_extension": ".py",
   "mimetype": "text/x-python",
   "name": "python",
   "nbconvert_exporter": "python",
   "pygments_lexer": "ipython3",
   "version": "3.7.1"
  }
 },
 "nbformat": 4,
 "nbformat_minor": 2
}
